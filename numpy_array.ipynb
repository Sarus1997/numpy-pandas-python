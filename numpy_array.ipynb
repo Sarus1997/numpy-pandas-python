{
 "cells": [
  {
   "cell_type": "markdown",
   "metadata": {},
   "source": [
    "## Numpy "
   ]
  },
  {
   "cell_type": "code",
   "execution_count": 11,
   "metadata": {},
   "outputs": [
    {
     "name": "stdout",
     "output_type": "stream",
     "text": [
      "Hello Numpy\n"
     ]
    }
   ],
   "source": [
    "print('Hello Numpy')"
   ]
  },
  {
   "cell_type": "markdown",
   "metadata": {},
   "source": [
    "### การสร้างอาร์เรย์ 1 มิติ\n",
    "\n",
    "```bash\n",
    "  print(nums): คำสั่งนี้จะแสดงค่าในอาร์เรย์ nums ซึ่งในกรณีนี้คือ [1 2 3 4 5].\n",
    "  print(type(nums)): คำสั่งนี้จะแสดงชนิดประเภทของ nums ซึ่งเป็น <class 'numpy.ndarray'>.\n",
    "  print(nums.shape): คำสั่งนี้จะแสดงรูปร่าง (shape) ของอาร์เรย์ nums. ในกรณีนี้คือ (5,) ซึ่งหมายถึงอาร์เรย์นี้มี 5 อิลิเมนต์ในแนวเดียวกัน (1 มิติ).\n",
    "  print(nums.ndim): คำสั่งนี้จะแสดงจำนวนมิติ (dimensions) ของอาร์เรย์ nums. ในกรณีนี้คือ 1 หมายถึงเป็นอาร์เรย์ 1 มิติ.\n",
    "  print(nums.dtype): คำสั่งนี้จะแสดงชนิดข้อมูล (data type) ของอาร์เรย์ nums. ในกรณีนี้คือ int64 หรือ int32 ขึ้นอยู่กับแพลตฟอร์มที่คุณใช้.\n",
    "```\n"
   ]
  },
  {
   "cell_type": "code",
   "execution_count": 12,
   "metadata": {},
   "outputs": [
    {
     "name": "stdout",
     "output_type": "stream",
     "text": [
      "[1 2 3 4 5]\n",
      "<class 'numpy.ndarray'>\n",
      "(5,)\n",
      "1\n",
      "int64\n"
     ]
    }
   ],
   "source": [
    "import numpy as np # type: ignore\n",
    "\n",
    "nums = np.array([1,2,3,4,5])\n",
    "\n",
    "print(nums) #[1 2 3 4 5]\n",
    "print(type(nums)) #<class 'numpy.ndarray'>\n",
    "print(nums.shape)\n",
    "print(nums.ndim) \n",
    "print(nums.dtype) "
   ]
  },
  {
   "cell_type": "markdown",
   "metadata": {},
   "source": [
    "### การสร้างอาร์เรย์ 2 มิติ\n",
    "\n",
    "```python\n",
    "  _2d = 2 มิติ\n",
    "```\n"
   ]
  },
  {
   "cell_type": "code",
   "execution_count": 13,
   "metadata": {},
   "outputs": [
    {
     "name": "stdout",
     "output_type": "stream",
     "text": [
      "[[1 2 3]\n",
      " [4 5 6]]\n",
      "<class 'numpy.ndarray'>\n",
      "(2, 3)\n",
      "2\n",
      "int64\n"
     ]
    }
   ],
   "source": [
    "import numpy as np # type: ignore\n",
    "\n",
    "nums_2d = np.array([[1, 2, 3], [4, 5, 6]])\n",
    "print(nums_2d)\n",
    "print(type(nums_2d))\n",
    "print(nums_2d.shape)\n",
    "print(nums_2d.ndim)\n",
    "print(nums_2d.dtype)"
   ]
  },
  {
   "cell_type": "markdown",
   "metadata": {},
   "source": [
    "### การสร้างอาร์เรย์ 3 มิติ\n",
    "```python\n",
    "  _3d = 3 มิติ\n",
    "```\n"
   ]
  },
  {
   "cell_type": "code",
   "execution_count": 14,
   "metadata": {},
   "outputs": [
    {
     "name": "stdout",
     "output_type": "stream",
     "text": [
      "[[[ 1  2  3]\n",
      "  [ 4  5  6]]\n",
      "\n",
      " [[ 7  8  9]\n",
      "  [10 11 12]]]\n",
      "<class 'numpy.ndarray'>\n",
      "(2, 2, 3)\n",
      "3\n",
      "int64\n"
     ]
    }
   ],
   "source": [
    "import numpy as np # type: ignore\n",
    "\n",
    "nums_3d = np.array([[[1, 2, 3], [4, 5, 6]], \n",
    "                    [[7, 8, 9], [10, 11, 12]]])\n",
    "print(nums_3d)\n",
    "print(type(nums_3d))\n",
    "print(nums_3d.shape)\n",
    "print(nums_3d.ndim)\n",
    "print(nums_3d.dtype)"
   ]
  },
  {
   "cell_type": "markdown",
   "metadata": {},
   "source": [
    "### การสร้างอาร์เรย์ 4 มิติ\n",
    "```python\n",
    "  _4d = 4 มิติ\n",
    "```\n"
   ]
  },
  {
   "cell_type": "code",
   "execution_count": 15,
   "metadata": {},
   "outputs": [
    {
     "name": "stdout",
     "output_type": "stream",
     "text": [
      "[[[[ 1  2  3]\n",
      "   [ 4  5  6]]\n",
      "\n",
      "  [[ 7  8  9]\n",
      "   [10 11 12]]]\n",
      "\n",
      "\n",
      " [[[13 14 15]\n",
      "   [16 17 18]]\n",
      "\n",
      "  [[19 20 21]\n",
      "   [22 23 24]]]]\n",
      "<class 'numpy.ndarray'>\n",
      "(2, 2, 2, 3)\n",
      "4\n",
      "int64\n"
     ]
    }
   ],
   "source": [
    "import numpy as np # type: ignore\n",
    "\n",
    "nums_4d = np.array([[[[1, 2, 3], [4, 5, 6]], \n",
    "                      [[7, 8, 9], [10, 11, 12]]], \n",
    "                    [[[13, 14, 15], [16, 17, 18]], \n",
    "                      [[19, 20, 21], [22, 23, 24]]]])\n",
    "print(nums_4d)\n",
    "print(type(nums_4d))\n",
    "print(nums_4d.shape)\n",
    "print(nums_4d.ndim)\n",
    "print(nums_4d.dtype)"
   ]
  }
 ],
 "metadata": {
  "kernelspec": {
   "display_name": "Python 3",
   "language": "python",
   "name": "python3"
  },
  "language_info": {
   "codemirror_mode": {
    "name": "ipython",
    "version": 3
   },
   "file_extension": ".py",
   "mimetype": "text/x-python",
   "name": "python",
   "nbconvert_exporter": "python",
   "pygments_lexer": "ipython3",
   "version": "3.13.2"
  }
 },
 "nbformat": 4,
 "nbformat_minor": 2
}
